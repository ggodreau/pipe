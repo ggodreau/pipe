{
 "cells": [
  {
   "cell_type": "markdown",
   "metadata": {},
   "source": [
    "_MNIST + KerasClassifier (sklearn wrapper) + Pipeline + Gridsearch_\n",
    "---"
   ]
  },
  {
   "cell_type": "markdown",
   "metadata": {},
   "source": [
    "Below is a procedure for building a neural network to recognize handwritten digits.  The data is from Kaggle, and you will submit your results to Kaggle to test how well you did!\n",
    "\n",
    "1. Load the training data (`train.csv`) from Kaggle\n",
    "2. Setup X and y (feature matrix and target vector)\n",
    "3. Split X and y into train and test subsets.\n",
    "4. Preprocess your data\n",
    "\n",
    "   - When dealing with image data, you need to normalize your `X` by dividing each value by the max value of a pixel (255).\n",
    "   - Since this is a multiclass classification problem, keras needs `y` to be a one-hot encoded matrix\n",
    "   \n",
    "5. Create your network.\n",
    "\n",
    "   - Remember that for multi-class classification you need a softamx activation function on the output layer.\n",
    "   - You may want to consider using regularization or dropout to improve performance.\n",
    "   \n",
    "6. Trian your network.\n",
    "7. If you are unhappy with your model performance, try to tighten up your model by adding hidden layers, adding hidden layer units, chaning the activation functions on the hidden layers, etc.\n",
    "8. Load in Kaggle's `test.csv`\n",
    "9. Create your predictions (these should be numbers in the range 0-9).\n",
    "10. Save your predictions and submit them to Kaggle."
   ]
  },
  {
   "cell_type": "markdown",
   "metadata": {},
   "source": [
    "---\n",
    "\n",
    "For this lab, you should complete the above sequence of steps for _at least_ two of the three \"configurations\":\n",
    "\n",
    "1. Using a `tensorflow` network\n",
    "2. Using a `keras` \"sequential\" network\n",
    "3. Using a `keras` convolutional network\n",
    "4. Using a `tensorflow` convolutional network (we did _not_ cover this in class!)"
   ]
  },
  {
   "cell_type": "code",
   "execution_count": 1,
   "metadata": {},
   "outputs": [
    {
     "name": "stdout",
     "output_type": "stream",
     "text": [
      "sample_submission.csv  test.csv  train.csv\r\n"
     ]
    }
   ],
   "source": [
    "!ls ./datasets"
   ]
  },
  {
   "cell_type": "code",
   "execution_count": 2,
   "metadata": {},
   "outputs": [
    {
     "name": "stderr",
     "output_type": "stream",
     "text": [
      "Using TensorFlow backend.\n"
     ]
    }
   ],
   "source": [
    "import pandas as pd\n",
    "import numpy as np\n",
    "from keras.models import Sequential\n",
    "from keras.optimizers import Adam\n",
    "from keras.wrappers.scikit_learn import KerasClassifier\n",
    "from keras.layers import Convolution2D, MaxPooling2D, Dropout, Dense, Flatten\n",
    "from sklearn.pipeline import Pipeline\n",
    "from sklearn.preprocessing import FunctionTransformer, OneHotEncoder\n",
    "from sklearn.model_selection import train_test_split, GridSearchCV"
   ]
  },
  {
   "cell_type": "code",
   "execution_count": 3,
   "metadata": {},
   "outputs": [],
   "source": [
    "train = pd.read_csv('./datasets/train.csv')\n",
    "# test = pd.read_csv('./datasets/test.csv') # this is for validation, not used in this notebook"
   ]
  },
  {
   "cell_type": "markdown",
   "metadata": {},
   "source": [
    "# Train Test Split"
   ]
  },
  {
   "cell_type": "code",
   "execution_count": 4,
   "metadata": {},
   "outputs": [],
   "source": [
    "X_train, X_test, y_train, y_test = train_test_split(\n",
    "    train.drop(labels='label', axis=1), train['label'], test_size=0.33, random_state=42, stratify=train['label'])"
   ]
  },
  {
   "cell_type": "code",
   "execution_count": 5,
   "metadata": {},
   "outputs": [
    {
     "data": {
      "text/html": [
       "<div>\n",
       "<style scoped>\n",
       "    .dataframe tbody tr th:only-of-type {\n",
       "        vertical-align: middle;\n",
       "    }\n",
       "\n",
       "    .dataframe tbody tr th {\n",
       "        vertical-align: top;\n",
       "    }\n",
       "\n",
       "    .dataframe thead th {\n",
       "        text-align: right;\n",
       "    }\n",
       "</style>\n",
       "<table border=\"1\" class=\"dataframe\">\n",
       "  <thead>\n",
       "    <tr style=\"text-align: right;\">\n",
       "      <th></th>\n",
       "      <th>0</th>\n",
       "      <th>1</th>\n",
       "      <th>2</th>\n",
       "      <th>3</th>\n",
       "      <th>4</th>\n",
       "      <th>5</th>\n",
       "      <th>6</th>\n",
       "      <th>7</th>\n",
       "      <th>8</th>\n",
       "      <th>9</th>\n",
       "    </tr>\n",
       "  </thead>\n",
       "  <tbody>\n",
       "    <tr>\n",
       "      <th>0</th>\n",
       "      <td>0.0</td>\n",
       "      <td>0.0</td>\n",
       "      <td>0.0</td>\n",
       "      <td>0.0</td>\n",
       "      <td>1.0</td>\n",
       "      <td>0.0</td>\n",
       "      <td>0.0</td>\n",
       "      <td>0.0</td>\n",
       "      <td>0.0</td>\n",
       "      <td>0.0</td>\n",
       "    </tr>\n",
       "    <tr>\n",
       "      <th>1</th>\n",
       "      <td>1.0</td>\n",
       "      <td>0.0</td>\n",
       "      <td>0.0</td>\n",
       "      <td>0.0</td>\n",
       "      <td>0.0</td>\n",
       "      <td>0.0</td>\n",
       "      <td>0.0</td>\n",
       "      <td>0.0</td>\n",
       "      <td>0.0</td>\n",
       "      <td>0.0</td>\n",
       "    </tr>\n",
       "    <tr>\n",
       "      <th>2</th>\n",
       "      <td>0.0</td>\n",
       "      <td>0.0</td>\n",
       "      <td>0.0</td>\n",
       "      <td>0.0</td>\n",
       "      <td>0.0</td>\n",
       "      <td>0.0</td>\n",
       "      <td>0.0</td>\n",
       "      <td>0.0</td>\n",
       "      <td>1.0</td>\n",
       "      <td>0.0</td>\n",
       "    </tr>\n",
       "    <tr>\n",
       "      <th>3</th>\n",
       "      <td>0.0</td>\n",
       "      <td>0.0</td>\n",
       "      <td>0.0</td>\n",
       "      <td>1.0</td>\n",
       "      <td>0.0</td>\n",
       "      <td>0.0</td>\n",
       "      <td>0.0</td>\n",
       "      <td>0.0</td>\n",
       "      <td>0.0</td>\n",
       "      <td>0.0</td>\n",
       "    </tr>\n",
       "    <tr>\n",
       "      <th>4</th>\n",
       "      <td>0.0</td>\n",
       "      <td>0.0</td>\n",
       "      <td>0.0</td>\n",
       "      <td>0.0</td>\n",
       "      <td>0.0</td>\n",
       "      <td>0.0</td>\n",
       "      <td>0.0</td>\n",
       "      <td>0.0</td>\n",
       "      <td>1.0</td>\n",
       "      <td>0.0</td>\n",
       "    </tr>\n",
       "  </tbody>\n",
       "</table>\n",
       "</div>"
      ],
      "text/plain": [
       "     0    1    2    3    4    5    6    7    8    9\n",
       "0  0.0  0.0  0.0  0.0  1.0  0.0  0.0  0.0  0.0  0.0\n",
       "1  1.0  0.0  0.0  0.0  0.0  0.0  0.0  0.0  0.0  0.0\n",
       "2  0.0  0.0  0.0  0.0  0.0  0.0  0.0  0.0  1.0  0.0\n",
       "3  0.0  0.0  0.0  1.0  0.0  0.0  0.0  0.0  0.0  0.0\n",
       "4  0.0  0.0  0.0  0.0  0.0  0.0  0.0  0.0  1.0  0.0"
      ]
     },
     "execution_count": 5,
     "metadata": {},
     "output_type": "execute_result"
    }
   ],
   "source": [
    "# OHE the y_train data, visualized in a dataframe for convenience\n",
    "# Note that the y target is actually 10 columns, not one\n",
    "pd.DataFrame(OneHotEncoder().fit_transform(y_train.values.reshape(-1,1)).todense()).head()"
   ]
  },
  {
   "cell_type": "code",
   "execution_count": 6,
   "metadata": {},
   "outputs": [
    {
     "data": {
      "text/plain": [
       "array([[ 0.,  0.,  0., ...,  0.,  0.,  0.],\n",
       "       [ 1.,  0.,  0., ...,  0.,  0.,  0.],\n",
       "       [ 0.,  0.,  0., ...,  0.,  1.,  0.],\n",
       "       ..., \n",
       "       [ 0.,  0.,  0., ...,  0.,  0.,  0.],\n",
       "       [ 0.,  0.,  0., ...,  0.,  0.,  1.],\n",
       "       [ 1.,  0.,  0., ...,  0.,  0.,  0.]])"
      ]
     },
     "execution_count": 6,
     "metadata": {},
     "output_type": "execute_result"
    }
   ],
   "source": [
    "# massaged y_train OHE'd numpy array.\n",
    "# This is what we want our y_train to \n",
    "# look like once it hits our model.\n",
    "# sklearn doesn't support pipeline\n",
    "# operations on y so we have to do this\n",
    "# when we feed it into the pipe, not IN the pipe\n",
    "np.array(OneHotEncoder().fit_transform(y_train.values.reshape(-1,1)).todense())"
   ]
  },
  {
   "cell_type": "code",
   "execution_count": 33,
   "metadata": {},
   "outputs": [
    {
     "data": {
      "text/plain": [
       "array([[0, 0, 0, ..., 0, 0, 0],\n",
       "       [0, 0, 0, ..., 0, 0, 0],\n",
       "       [0, 0, 0, ..., 0, 0, 0],\n",
       "       ..., \n",
       "       [0, 0, 0, ..., 0, 0, 0],\n",
       "       [0, 0, 0, ..., 0, 0, 0],\n",
       "       [0, 0, 0, ..., 0, 0, 0]])"
      ]
     },
     "execution_count": 33,
     "metadata": {},
     "output_type": "execute_result"
    }
   ],
   "source": [
    "# massaged X_train numpy array, we will\n",
    "# do these operations in our pipe\n",
    "np.array(X_train)"
   ]
  },
  {
   "cell_type": "markdown",
   "metadata": {},
   "source": [
    "# Create Function Transformers (transforms data in your pipe)"
   ]
  },
  {
   "cell_type": "code",
   "execution_count": 8,
   "metadata": {},
   "outputs": [],
   "source": [
    "def make_np_array(X):\n",
    "    '''\n",
    "    Converts the input df to a numpy array\n",
    "    returns said array\n",
    "    '''\n",
    "    return np.array(X)"
   ]
  },
  {
   "cell_type": "code",
   "execution_count": 9,
   "metadata": {},
   "outputs": [],
   "source": [
    "def change_shape(X, shape='2d'):\n",
    "    '''\n",
    "    Converts from a 1D row of 784 samples\n",
    "    to a 28x28 2d matrix\n",
    "    '''\n",
    "    if shape == '1d':\n",
    "        return X\n",
    "    elif shape == '2d':\n",
    "        return X.reshape(X.shape[0], 28, 28, 1).astype('float32')"
   ]
  },
  {
   "cell_type": "code",
   "execution_count": 10,
   "metadata": {},
   "outputs": [
    {
     "data": {
      "text/plain": [
       "(28140, 784)"
      ]
     },
     "execution_count": 10,
     "metadata": {},
     "output_type": "execute_result"
    }
   ],
   "source": [
    "# Show the output shape after a 2D transformation.\n",
    "# Takes a row of 784 pixels and 'wraps' them to \n",
    "# a 28x28 2D matrix\n",
    "make_np_array(X_train).shape"
   ]
  },
  {
   "cell_type": "markdown",
   "metadata": {},
   "source": [
    "# Make the model / network arch"
   ]
  },
  {
   "cell_type": "markdown",
   "metadata": {},
   "source": [
    "## 2D Conv with input parameters"
   ]
  },
  {
   "cell_type": "code",
   "execution_count": 11,
   "metadata": {
    "code_folding": []
   },
   "outputs": [],
   "source": [
    "def instantiate_convolution_model(params=None, output='softmax'):\n",
    "    '''\n",
    "    puts together a convolution model with the following structure:\n",
    "    1. 2D convolution\n",
    "    2. 2D MAX pooling\n",
    "    3. 2D convolution\n",
    "    4. 2D MAX pooling\n",
    "    5. Dropout\n",
    "    6. Flatten\n",
    "    7. Dense\n",
    "    8. Dropout\n",
    "    9. Dense (output)\n",
    "    '''\n",
    "    \n",
    "    model = Sequential()\n",
    "\n",
    "    model.add(Convolution2D(filters = params['filters'][0],\n",
    "                            kernel_size = params['kernel_size'][0],\n",
    "                            activation = params['activation'][0],\n",
    "                            input_shape = params['input_shape']))\n",
    "    model.add(MaxPooling2D(pool_size = params['pool_size'][0]))\n",
    "    model.add(Convolution2D(filters = params['filters'][1],\n",
    "                            kernel_size = params['kernel_size'][1],\n",
    "                            activation = params['activation'][0]))\n",
    "    model.add(MaxPooling2D(pool_size = params['pool_size'][0]))\n",
    "    model.add(Dropout(params['dropout'][0]))\n",
    "    model.add(Flatten())\n",
    "    model.add(Dense(units=params['units'][0],activation=params['activation'][0]))\n",
    "    model.add(Dropout(params['dropout'][1]))\n",
    "    model.add(Dense(units=params['units'][1],activation=output)) # output layer\n",
    "    # compile model\n",
    "    model.compile(loss=params['loss'][0],\n",
    "                  optimizer=params['optimizer'][0],\n",
    "                  metrics=params['metrics'][0])\n",
    "    return model"
   ]
  },
  {
   "cell_type": "code",
   "execution_count": 12,
   "metadata": {
    "code_folding": []
   },
   "outputs": [],
   "source": [
    "conv_params = {'input_shape':(28,28,1),\n",
    "               'filters':[6,16],\n",
    "               'kernel_size':[3,3],\n",
    "               'activation':['relu'],\n",
    "               'pool_size':[(2,2)],\n",
    "               'dropout':[0.25,0.1],\n",
    "               'units':[128,10],\n",
    "               'optimizer':['adam'],\n",
    "               'loss':['categorical_crossentropy'],\n",
    "               'metrics':[['accuracy']]\n",
    "              }"
   ]
  },
  {
   "cell_type": "code",
   "execution_count": 37,
   "metadata": {},
   "outputs": [
    {
     "name": "stdout",
     "output_type": "stream",
     "text": [
      "_________________________________________________________________\n",
      "Layer (type)                 Output Shape              Param #   \n",
      "=================================================================\n",
      "conv2d_11 (Conv2D)           (None, 26, 26, 6)         60        \n",
      "_________________________________________________________________\n",
      "max_pooling2d_11 (MaxPooling (None, 13, 13, 6)         0         \n",
      "_________________________________________________________________\n",
      "conv2d_12 (Conv2D)           (None, 11, 11, 16)        880       \n",
      "_________________________________________________________________\n",
      "max_pooling2d_12 (MaxPooling (None, 5, 5, 16)          0         \n",
      "_________________________________________________________________\n",
      "dropout_14 (Dropout)         (None, 5, 5, 16)          0         \n",
      "_________________________________________________________________\n",
      "flatten_6 (Flatten)          (None, 400)               0         \n",
      "_________________________________________________________________\n",
      "dense_17 (Dense)             (None, 128)               51328     \n",
      "_________________________________________________________________\n",
      "dropout_15 (Dropout)         (None, 128)               0         \n",
      "_________________________________________________________________\n",
      "dense_18 (Dense)             (None, 10)                1290      \n",
      "=================================================================\n",
      "Total params: 53,558\n",
      "Trainable params: 53,558\n",
      "Non-trainable params: 0\n",
      "_________________________________________________________________\n"
     ]
    }
   ],
   "source": [
    "# show that a keras model is returned when fed parameters\n",
    "# this ISN'T needed to run this model. It will instantiate\n",
    "# when the pipe is called with the .fit() method\n",
    "instantiate_convolution_model(conv_params).summary()"
   ]
  },
  {
   "cell_type": "markdown",
   "metadata": {},
   "source": [
    "## Simple 2D conv model without input paramers"
   ]
  },
  {
   "cell_type": "code",
   "execution_count": 14,
   "metadata": {
    "code_folding": [
     1
    ]
   },
   "outputs": [],
   "source": [
    "# not used in this demonstration\n",
    "def make_simple2d():\n",
    "    n_filters = 32\n",
    "    kernel = (5,5)\n",
    "    pool = (2,2)\n",
    "    n_output = 10 # y_train.shape[1]\n",
    "\n",
    "    learning_rate = 0.01\n",
    "\n",
    "    model = Sequential()\n",
    "\n",
    "    model.add(Convolution2D(n_filters, kernel, input_shape=(28,28,1), activation='relu'))\n",
    "    model.add(MaxPooling2D(pool_size=pool))\n",
    "    model.add(Flatten())\n",
    "    model.add(Dense(128, activation='relu'))\n",
    "    model.add(Dense(n_output, activation='softmax'))\n",
    "    \n",
    "    adam = Adam(learning_rate)\n",
    "    model.compile(optimizer=adam, metrics=['accuracy'], loss='categorical_crossentropy')\n",
    "    \n",
    "    return model"
   ]
  },
  {
   "cell_type": "markdown",
   "metadata": {},
   "source": [
    "## Simple 1D non-conv model without input parameters"
   ]
  },
  {
   "cell_type": "code",
   "execution_count": 38,
   "metadata": {
    "code_folding": [
     0
    ]
   },
   "outputs": [],
   "source": [
    "def make_simple1d():\n",
    "    model = Sequential()\n",
    "    model.add(Dense(784, input_shape=(784,), activation='relu'))\n",
    "#     model.add(Dropout(.5))\n",
    "    model.add(Dense(10, activation='softmax'))\n",
    "    model.compile(optimizer='adam', metrics=['accuracy'], loss='categorical_crossentropy')\n",
    "    return model"
   ]
  },
  {
   "cell_type": "markdown",
   "metadata": {},
   "source": [
    "# Make a pipeline"
   ]
  },
  {
   "cell_type": "markdown",
   "metadata": {},
   "source": [
    "## ...for our 2D Conv model"
   ]
  },
  {
   "cell_type": "code",
   "execution_count": 16,
   "metadata": {
    "code_folding": []
   },
   "outputs": [],
   "source": [
    "# set the pipe architecture\n",
    "# 'np' changes from dataframe to numpy array\n",
    "# 'shp' changes from a row of 748 pixels to a 28x28 matrix for each digit\n",
    "# 'clf' runs the data through the conv2d net\n",
    "pipe = Pipeline([\n",
    "    ('np', FunctionTransformer(make_np_array)),  # change from df to a numpy array\n",
    "    ('shp', FunctionTransformer(change_shape)),  # go from 1D row of 784 to 2D / 28x28 pixels\n",
    "    ('clf', KerasClassifier(build_fn=instantiate_convolution_model, epochs=2, params=conv_params)) # train model\n",
    "])"
   ]
  },
  {
   "cell_type": "code",
   "execution_count": 17,
   "metadata": {},
   "outputs": [],
   "source": [
    "# This gets input to the 'shp' named step in the pipe\n",
    "# which gets fed to the change_shape function transformer\n",
    "# note that it must be input to shp__kw_args per the \n",
    "# FunctionTransformer() docs as a dictionary and\n",
    "# must be received by the function as a keword \n",
    "# argument. Positional args are not accepted!\n",
    "# Note: you can see all the params you can \n",
    "# modify with pipe.get_params().keys()\n",
    "params = [\n",
    "    {'shp__kw_args': [{'shape': '2d'}]}\n",
    "]"
   ]
  },
  {
   "cell_type": "code",
   "execution_count": 18,
   "metadata": {},
   "outputs": [],
   "source": [
    "# create a gridsearch object with the above params\n",
    "# that feed down into our estimator, which is our\n",
    "# pipeline\n",
    "gs = GridSearchCV(pipe, param_grid=params, cv=2)"
   ]
  },
  {
   "cell_type": "code",
   "execution_count": 19,
   "metadata": {},
   "outputs": [
    {
     "name": "stderr",
     "output_type": "stream",
     "text": [
      "/home/greg/miniconda3/envs/ga/lib/python3.6/site-packages/sklearn/base.py:115: DeprecationWarning: Estimator KerasClassifier modifies parameters in __init__. This behavior is deprecated as of 0.18 and support for this behavior will be removed in 0.20.\n",
      "  % type(estimator).__name__, DeprecationWarning)\n",
      "/home/greg/miniconda3/envs/ga/lib/python3.6/site-packages/sklearn/base.py:115: DeprecationWarning: Estimator KerasClassifier modifies parameters in __init__. This behavior is deprecated as of 0.18 and support for this behavior will be removed in 0.20.\n",
      "  % type(estimator).__name__, DeprecationWarning)\n"
     ]
    },
    {
     "name": "stdout",
     "output_type": "stream",
     "text": [
      "Epoch 1/2\n",
      "14070/14070 [==============================] - 7s - loss: 11.4142 - acc: 0.2851     \n",
      "Epoch 2/2\n",
      "14070/14070 [==============================] - 6s - loss: 6.6070 - acc: 0.5709     \n",
      "14048/14070 [============================>.] - ETA: 0s"
     ]
    },
    {
     "name": "stderr",
     "output_type": "stream",
     "text": [
      "/home/greg/miniconda3/envs/ga/lib/python3.6/site-packages/sklearn/base.py:115: DeprecationWarning: Estimator KerasClassifier modifies parameters in __init__. This behavior is deprecated as of 0.18 and support for this behavior will be removed in 0.20.\n",
      "  % type(estimator).__name__, DeprecationWarning)\n"
     ]
    },
    {
     "name": "stdout",
     "output_type": "stream",
     "text": [
      "Epoch 1/2\n",
      "14070/14070 [==============================] - 6s - loss: 11.5386 - acc: 0.2790     \n",
      "Epoch 2/2\n",
      "14070/14070 [==============================] - 6s - loss: 7.5615 - acc: 0.5139     \n",
      "14070/14070 [==============================] - 3s     \n"
     ]
    },
    {
     "name": "stderr",
     "output_type": "stream",
     "text": [
      "/home/greg/miniconda3/envs/ga/lib/python3.6/site-packages/sklearn/base.py:115: DeprecationWarning: Estimator KerasClassifier modifies parameters in __init__. This behavior is deprecated as of 0.18 and support for this behavior will be removed in 0.20.\n",
      "  % type(estimator).__name__, DeprecationWarning)\n"
     ]
    },
    {
     "name": "stdout",
     "output_type": "stream",
     "text": [
      "Epoch 1/2\n",
      "28140/28140 [==============================] - 12s - loss: 5.7636 - acc: 0.6062    \n",
      "Epoch 2/2\n",
      "28140/28140 [==============================] - 12s - loss: 0.2653 - acc: 0.9256    \n"
     ]
    },
    {
     "data": {
      "text/plain": [
       "GridSearchCV(cv=2, error_score='raise',\n",
       "       estimator=Pipeline(memory=None,\n",
       "     steps=[('np', FunctionTransformer(accept_sparse=False,\n",
       "          func=<function make_np_array at 0x7f7e3fcfbea0>,\n",
       "          inv_kw_args=None, inverse_func=None, kw_args=None,\n",
       "          pass_y='deprecated', validate=True)), ('shp', FunctionTransformer(accept_sparse=False,\n",
       "          func=<function cha...   validate=True)), ('clf', <keras.wrappers.scikit_learn.KerasClassifier object at 0x7f7e3fbcecf8>)]),\n",
       "       fit_params=None, iid=True, n_jobs=1,\n",
       "       param_grid=[{'shp__kw_args': [{'shape': '2d'}]}],\n",
       "       pre_dispatch='2*n_jobs', refit=True, return_train_score='warn',\n",
       "       scoring=None, verbose=0)"
      ]
     },
     "execution_count": 19,
     "metadata": {},
     "output_type": "execute_result"
    }
   ],
   "source": [
    "# run the data through the gridsearch:\n",
    "#   DATA (X_train) --> GS --> PIPE --> KERAS\n",
    "gs.fit(X_train,\n",
    "         np.array(OneHotEncoder().fit_transform(y_train.values.reshape(-1,1)).todense()))"
   ]
  },
  {
   "cell_type": "code",
   "execution_count": 20,
   "metadata": {},
   "outputs": [
    {
     "name": "stdout",
     "output_type": "stream",
     "text": [
      "13664/13860 [============================>.] - ETA: 0s"
     ]
    },
    {
     "data": {
      "text/plain": [
       "0.96529581529581532"
      ]
     },
     "execution_count": 20,
     "metadata": {},
     "output_type": "execute_result"
    }
   ],
   "source": [
    "gs.score(X_test,\n",
    "         np.array(OneHotEncoder().fit_transform(y_test.values.reshape(-1,1)).todense()))"
   ]
  },
  {
   "cell_type": "markdown",
   "metadata": {},
   "source": [
    "## ...for our 1D model"
   ]
  },
  {
   "cell_type": "code",
   "execution_count": 21,
   "metadata": {},
   "outputs": [],
   "source": [
    "# Make it so the keras model takes in a 1D\n",
    "# array instead of a 2D array. This means\n",
    "# the 28x28 image will be one single row\n",
    "# that is 784 pixels wide. No convolution\n",
    "# will be run on it. Note I am changing\n",
    "# this shape with an argument of my \n",
    "# FunctionTransformer, 'change_shape',\n",
    "# and not manually\n",
    "params = [\n",
    "    {'shp__kw_args': [{'shape': '1d'}]}\n",
    "]"
   ]
  },
  {
   "cell_type": "code",
   "execution_count": 22,
   "metadata": {},
   "outputs": [],
   "source": [
    "# change the build model from 2dconv to simple 1d\n",
    "pipe = Pipeline([\n",
    "    ('np', FunctionTransformer(make_np_array)),\n",
    "    ('shp', FunctionTransformer(change_shape)),\n",
    "    ('clf', KerasClassifier(build_fn=make_simple1d, epochs=2))\n",
    "])"
   ]
  },
  {
   "cell_type": "code",
   "execution_count": 23,
   "metadata": {},
   "outputs": [],
   "source": [
    "gs = GridSearchCV(pipe, param_grid=params, cv=2)"
   ]
  },
  {
   "cell_type": "code",
   "execution_count": 24,
   "metadata": {},
   "outputs": [
    {
     "name": "stdout",
     "output_type": "stream",
     "text": [
      "Epoch 1/2\n",
      "14070/14070 [==============================] - 7s - loss: 12.1618 - acc: 0.2443     \n",
      "Epoch 2/2\n",
      "14070/14070 [==============================] - 6s - loss: 11.2010 - acc: 0.3041     \n",
      "13824/14070 [============================>.] - ETA: 0sEpoch 1/2\n",
      "14070/14070 [==============================] - 6s - loss: 10.2800 - acc: 0.3594     \n",
      "Epoch 2/2\n",
      "14070/14070 [==============================] - 6s - loss: 9.6159 - acc: 0.4022     \n",
      "13952/14070 [============================>.] - ETA: 0sEpoch 1/2\n",
      "28140/28140 [==============================] - 13s - loss: 14.5267 - acc: 0.0986    \n",
      "Epoch 2/2\n",
      "28140/28140 [==============================] - 13s - loss: 14.5550 - acc: 0.0970    \n"
     ]
    },
    {
     "data": {
      "text/plain": [
       "GridSearchCV(cv=2, error_score='raise',\n",
       "       estimator=Pipeline(memory=None,\n",
       "     steps=[('np', FunctionTransformer(accept_sparse=False,\n",
       "          func=<function make_np_array at 0x7f7e3fcfbea0>,\n",
       "          inv_kw_args=None, inverse_func=None, kw_args=None,\n",
       "          pass_y='deprecated', validate=True)), ('shp', FunctionTransformer(accept_sparse=False,\n",
       "          func=<function cha...   validate=True)), ('clf', <keras.wrappers.scikit_learn.KerasClassifier object at 0x7f7e3fbcee48>)]),\n",
       "       fit_params=None, iid=True, n_jobs=1,\n",
       "       param_grid=[{'shp__kw_args': [{'shape': '1d'}]}],\n",
       "       pre_dispatch='2*n_jobs', refit=True, return_train_score='warn',\n",
       "       scoring=None, verbose=0)"
      ]
     },
     "execution_count": 24,
     "metadata": {},
     "output_type": "execute_result"
    }
   ],
   "source": [
    "gs.fit(X_train,\n",
    "         np.array(OneHotEncoder().fit_transform(y_train.values.reshape(-1,1)).todense()))"
   ]
  },
  {
   "cell_type": "code",
   "execution_count": 25,
   "metadata": {},
   "outputs": [
    {
     "name": "stdout",
     "output_type": "stream",
     "text": [
      "13536/13860 [============================>.] - ETA: 0s"
     ]
    },
    {
     "data": {
      "text/plain": [
       "0.09704184704184704"
      ]
     },
     "execution_count": 25,
     "metadata": {},
     "output_type": "execute_result"
    }
   ],
   "source": [
    "gs.score(X_test,\n",
    "         np.array(OneHotEncoder().fit_transform(y_test.values.reshape(-1,1)).todense()))"
   ]
  }
 ],
 "metadata": {
  "kernelspec": {
   "display_name": "Python 3",
   "language": "python",
   "name": "python3"
  },
  "language_info": {
   "codemirror_mode": {
    "name": "ipython",
    "version": 3
   },
   "file_extension": ".py",
   "mimetype": "text/x-python",
   "name": "python",
   "nbconvert_exporter": "python",
   "pygments_lexer": "ipython3",
   "version": "3.6.3"
  },
  "toc": {
   "nav_menu": {},
   "number_sections": true,
   "sideBar": true,
   "skip_h1_title": false,
   "title_cell": "Table of Contents",
   "title_sidebar": "Contents",
   "toc_cell": false,
   "toc_position": {},
   "toc_section_display": true,
   "toc_window_display": false
  }
 },
 "nbformat": 4,
 "nbformat_minor": 2
}
